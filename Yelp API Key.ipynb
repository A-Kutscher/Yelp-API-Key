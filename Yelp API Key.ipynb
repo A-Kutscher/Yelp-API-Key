{
 "cells": [
  {
   "cell_type": "markdown",
   "id": "d903ee08-521f-4461-baf4-8778411485ed",
   "metadata": {},
   "source": [
    "# Create and Save Your Yelp API Key (Practice)\n",
    "- Amber Kutscher"
   ]
  },
  {
   "cell_type": "code",
   "execution_count": 1,
   "id": "938b799d-f0e5-46e4-91eb-177f54ddfaef",
   "metadata": {},
   "outputs": [],
   "source": [
    "# Standard Imports\n",
    "import numpy as np\n",
    "import pandas as pd\n",
    "import matplotlib.pyplot as plt\n",
    "import seaborn as sns\n",
    "import pymysql\n",
    "pymysql.install_as_MySQLdb()\n",
    "from urllib.parse import quote_plus as urlquote\n",
    "\n",
    "# Additional Imports\n",
    "import os, json, math, time\n",
    "from yelpapi import YelpAPI\n",
    "from tqdm.notebook import tqdm_notebook"
   ]
  },
  {
   "cell_type": "code",
   "execution_count": 2,
   "id": "9d535568-6443-4f71-aa5b-8205c5ec9bb0",
   "metadata": {},
   "outputs": [],
   "source": [
    "# Load API Credentials\n",
    "with open (r\"\\Users\\amber\\.secret\\yelp_api.json\") as f:\n",
    "    login = json.load(f)"
   ]
  },
  {
   "cell_type": "code",
   "execution_count": 3,
   "id": "31ebfa56-1811-481e-8664-24d970a4e0c7",
   "metadata": {},
   "outputs": [
    {
     "name": "stdout",
     "output_type": "stream",
     "text": [
      "Keys in the login dictionary: dict_keys(['Client-ID', 'API Key'])\n"
     ]
    }
   ],
   "source": [
    "# Display the keys in the login dictionary\n",
    "print(\"Keys in the login dictionary:\", login.keys())"
   ]
  },
  {
   "cell_type": "code",
   "execution_count": 4,
   "id": "0e771664-2abe-4b2a-9732-83319734b817",
   "metadata": {},
   "outputs": [],
   "source": [
    "# Instantiate YelpAPI Variable\n",
    "yelp = YelpAPI(login['API Key'], timeout_s = 5.0)"
   ]
  }
 ],
 "metadata": {
  "kernelspec": {
   "display_name": "Python 3 (ipykernel)",
   "language": "python",
   "name": "python3"
  },
  "language_info": {
   "codemirror_mode": {
    "name": "ipython",
    "version": 3
   },
   "file_extension": ".py",
   "mimetype": "text/x-python",
   "name": "python",
   "nbconvert_exporter": "python",
   "pygments_lexer": "ipython3",
   "version": "3.10.10"
  },
  "widgets": {
   "application/vnd.jupyter.widget-state+json": {
    "state": {},
    "version_major": 2,
    "version_minor": 0
   }
  }
 },
 "nbformat": 4,
 "nbformat_minor": 5
}
